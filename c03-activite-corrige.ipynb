{
 "cells": [
  {
   "cell_type": "code",
   "execution_count": 1,
   "metadata": {},
   "outputs": [
    {
     "data": {
      "application/javascript": [
       "function colorCells() { for (let cell of Jupyter.notebook.get_cells()) if (cell.metadata.tags && cell.metadata.tags.indexOf('nsi_enonce') >= 0) cell.element.css('background', '#DDDDFF'); } if (Jupyter.notebook.kernel) colorCells(); else Jupyter.notebook.events.one('kernel_ready.Kernel', (e) => colorCells())\n"
      ],
      "text/plain": [
       "<IPython.core.display.Javascript object>"
      ]
     },
     "metadata": {},
     "output_type": "display_data"
    }
   ],
   "source": [
    "%%js # Exécuter cette cellule pour colorer les énoncés s'ils ne le sont pas déjà\n",
    "function colorCells() { for (let cell of Jupyter.notebook.get_cells()) if (cell.metadata.tags && cell.metadata.tags.indexOf('nsi_enonce') >= 0) cell.element.css('background', '#DDDDFF'); } if (Jupyter.notebook.kernel) colorCells(); else Jupyter.notebook.events.one('kernel_ready.Kernel', (e) => colorCells())"
   ]
  },
  {
   "cell_type": "markdown",
   "metadata": {
    "tags": [
     "nsi_enonce"
    ]
   },
   "source": [
    "Activité d’introduction : Contrôler la tortue\n",
    "=============================================\n",
    "\n",
    "Objectifs\n",
    "---------\n",
    "\n",
    "Dans l’activité du chapitre 2, nous avons créé une fonction `polygone` qui trace un polygone à l’aide de la bibliothèque `turtle`. Nous allons maintenant créer une **interface** permettant à l’utilisateur d’utiliser cette fonction en cliquant sur un bouton.\n",
    "\n",
    "### Des boutons pour lancer des fonctions\n",
    "\n",
    "Pour commencer, nous créons un bouton pour dessiner un polygone. Nous utilisons la fonction `button` de la bibliothèque `nsi_ui` créée spécialement pour ce manuel. Elle prend pour paramètres le titre du bouton et la fonction Python à appeler lorsque l’on clique dessus.\n",
    "\n"
   ]
  },
  {
   "cell_type": "markdown",
   "metadata": {
    "tags": [
     "nsi_enonce"
    ]
   },
   "source": [
    "```python\n",
    "from turtle import *\n",
    "from nsi_ui import *\n",
    "# insérer ici la fonction polygone du chapitre 2\n",
    "def creer_polygone():\n",
    "    \"\"\" Fonction sans paramètres que l'on va associer au bouton \"\"\"\n",
    "    polygone(5, 60)\n",
    "button(\"Polygone\", creer_polygone)  # bouton pour faire le dessin\n",
    "```"
   ]
  },
  {
   "cell_type": "markdown",
   "metadata": {
    "tags": [
     "nsi_enonce"
    ]
   },
   "source": [
    "> **Note**\n",
    ">\n",
    "> A la ligne 7 on *n’appelle pas* la fonction `creer_polygone`, ce qui s’écrirait `creer_polygone()` (avec des parenthèses). Ici on y fait *référence*, en donnant juste son nom.\n",
    "\n",
    "\n",
    "**Question :** Créer un second bouton sur le modèle de la ligne 7 pour effacer l’écran (fonction `clear` de la bibliothèque `turtle`).\n"
   ]
  },
  {
   "cell_type": "code",
   "execution_count": null,
   "metadata": {
    "tags": [
     "nsi_jupyter"
    ]
   },
   "outputs": [],
   "source": [
    "# Exécuter d'abord cette cellule dans Jupyter \n",
    "\n",
    "from nsi_turtle import *\n",
    "from nsi_ui import *\n",
    "\n",
    "# Utile seulement dans Jupyter\n",
    "clear_ui()\n",
    "\n",
    "def creer_polygone():\n",
    "    \"\"\" Fonction sans paramètres que l'on va associer au bouton \"\"\"\n",
    "    polygone(5, 60)\n",
    "\n",
    "button(\"Polygone\", creer_polygone)  # bouton pour faire le dessin"
   ]
  },
  {
   "cell_type": "code",
   "execution_count": null,
   "metadata": {
    "scrolled": true,
    "tags": [
     "nsi_solution"
    ]
   },
   "outputs": [],
   "source": [
    "def polygone(n, cote):\n",
    "    \"\"\" Trace un polygone de n cotes de taille `cote` \"\"\"\n",
    "    for i in range(n):\n",
    "        forward(cote)\n",
    "        right(360/n)\n",
    "\n",
    "button(\"Effacer\", clear)\n",
    "\n",
    "main_loop()"
   ]
  },
  {
   "cell_type": "markdown",
   "metadata": {
    "tags": [
     "nsi_enonce"
    ]
   },
   "source": [
    "### Des tirettes pour contrôler les paramètres\n",
    "\n",
    "Pour contrôler la taille du pentagone, on crée une tirette à l’aide de la fonction `slider(…​)` de la bibliothèque `nsi_ui`. La fonction `get_int` retourne la valeur de la tirette. On modifie la fonction `creer_polygone` pour utiliser la valeur de la tirette : "
   ]
  },
  {
   "cell_type": "markdown",
   "metadata": {
    "tags": [
     "nsi_enonce"
    ]
   },
   "source": [
    "```python\n",
    "# paramètres de slider() : titre du bouton, valeurs min et max\n",
    "tirette_taille = slider(\"Taille\", 10, 100)\n",
    "def creer_polygone():\n",
    "    polygone(5, get_int(tirette_taille))\n",
    "```"
   ]
  },
  {
   "attachments": {
    "activite.png": {
     "image/png": "[encoded data removed]"
    }
   },
   "cell_type": "markdown",
   "metadata": {
    "tags": [
     "nsi_enonce"
    ]
   },
   "source": [
    "**Question :** Créer une seconde tirette pour régler le nombre de côtés du polygone, et modifier la fonction `creer_polygone` en conséquence.\n",
    "\n",
    "L’interface finale a l’aspect suivant : \n",
    "<div><img src=\"attachment:activite.png\" style=\"width: 120mm\"></div>"
   ]
  },
  {
   "cell_type": "code",
   "execution_count": null,
   "metadata": {
    "tags": [
     "nsi_jupyter"
    ]
   },
   "outputs": [],
   "source": [
    "# Exécuter d'abord cette cellule dans Jupyter\n",
    "\n",
    "from nsi_turtle import *\n",
    "from nsi_ui import *\n",
    "\n",
    "# Utile seulement dans Jupyter\n",
    "clear_ui()\n",
    "\n",
    "def polygone(n, cote):\n",
    "    \"\"\" Trace un polygone de n cotes de taille `cote` \"\"\"\n",
    "    for i in range(n):\n",
    "        forward(cote)\n",
    "        right(360/n)\n"
   ]
  },
  {
   "cell_type": "code",
   "execution_count": null,
   "metadata": {
    "tags": [
     "nsi_solution"
    ]
   },
   "outputs": [],
   "source": [
    "tirette_taille = slider(\"Taille\", 10, 100)\n",
    "tirette_ncotes = slider(\"Nombre de cotes\", 3, 50)\n",
    "\n",
    "def creer_polygone():\n",
    "    polygone(get_int(tirette_ncotes), get_int(tirette_taille))\n",
    "\n",
    "button(\"Polygone\", creer_polygone)  # bouton pour faire le dessin\n",
    "button(\"Effacer\", clear)\n",
    "\n",
    "main_loop()"
   ]
  },
  {
   "cell_type": "markdown",
   "metadata": {
    "tags": [
     "nsi_enonce"
    ]
   },
   "source": [
    "### Piloter la tortue au clavier\n",
    "\n",
    "Le code suivant fait avancer la tortue en appuyant sur la flèche vers le haut (`\"Up\"`). La fonction `onkey` spécifie ce que le programme doit faire lorsqu’il détecte l’appui d’une touche du clavier. "
   ]
  },
  {
   "cell_type": "markdown",
   "metadata": {
    "tags": [
     "nsi_enonce"
    ]
   },
   "source": [
    "```python\n",
    "def avance():\n",
    "    forward(10)\n",
    "onkey(avance, \"Up\") # paramètres : fonction à appeler, nom de la touche\n",
    "```"
   ]
  },
  {
   "cell_type": "markdown",
   "metadata": {
    "tags": [
     "nsi_enonce"
    ]
   },
   "source": [
    "**Question :** compléter le programme ci-dessus pour faire tourner la tortue à angles droits avec les flèches droite (`\"Right\"`) et gauche (`\"Left\"`).\n"
   ]
  },
  {
   "cell_type": "code",
   "execution_count": null,
   "metadata": {
    "tags": [
     "nsi_jupyter"
    ]
   },
   "outputs": [],
   "source": [
    "# Exécuter d'abord cette cellule dans Jupyter\n",
    "\n",
    "from nsi_turtle import *\n",
    "from nsi_ui import *\n",
    "\n",
    "# Utile seulement dans Jupyter\n",
    "clear_ui()\n",
    "\n",
    "# On redéfinit la fonction qui associe une fonction de rappel\n",
    "# à l'appui sur une touche par l'affichage d'un bouton\n",
    "def onkey(f, cle):\n",
    "    button(cle, f)\n",
    "\n",
    "def avance():\n",
    "    forward(10)\n",
    "\n",
    "onkey(avance, \"Up\") # paramètres : fonction à appeler, nom de la touche"
   ]
  },
  {
   "cell_type": "code",
   "execution_count": null,
   "metadata": {
    "tags": [
     "nsi_solution"
    ]
   },
   "outputs": [],
   "source": [
    "def gauche():\n",
    "    left(10)\n",
    "\n",
    "def droite():\n",
    "    right(10)\n",
    "\n",
    "onkey(droite, \"Right\")\n",
    "onkey(gauche, \"Left\")\n",
    "\n",
    "main_loop()"
   ]
  }
 ],
 "metadata": {
  "kernelspec": {
   "display_name": "Python 3",
   "language": "python",
   "name": "python3"
  },
  "language_info": {
   "codemirror_mode": {
    "name": "ipython",
    "version": 3
   },
   "file_extension": ".py",
   "mimetype": "text/x-python",
   "name": "python",
   "nbconvert_exporter": "python",
   "pygments_lexer": "ipython3",
   "version": "3.7.6"
  }
 },
 "nbformat": 4,
 "nbformat_minor": 4
}
